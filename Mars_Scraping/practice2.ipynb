{
 "cells": [
  {
   "cell_type": "code",
   "execution_count": 12,
   "id": "31515376",
   "metadata": {},
   "outputs": [],
   "source": [
    "from splinter import Browser\n",
    "from bs4 import BeautifulSoup as soup\n",
    "from webdriver_manager.chrome import ChromeDriverManager"
   ]
  },
  {
   "cell_type": "code",
   "execution_count": 13,
   "id": "ad82ef0e",
   "metadata": {},
   "outputs": [
    {
     "name": "stderr",
     "output_type": "stream",
     "text": [
      "\n",
      "\n",
      "====== WebDriver manager ======\n",
      "Current google-chrome version is 98.0.4758\n",
      "Get LATEST chromedriver version for 98.0.4758 google-chrome\n",
      "Driver [/Users/davidwiers/.wdm/drivers/chromedriver/mac64/98.0.4758.102/chromedriver] found in cache\n"
     ]
    }
   ],
   "source": [
    "# Set up Splinter\n",
    "executable_path = {'executable_path': ChromeDriverManager().install()}\n",
    "browser = Browser('chrome', **executable_path, headless=False)"
   ]
  },
  {
   "cell_type": "code",
   "execution_count": 14,
   "id": "debfb193",
   "metadata": {},
   "outputs": [
    {
     "data": {
      "text/plain": [
       "True"
      ]
     },
     "execution_count": 14,
     "metadata": {},
     "output_type": "execute_result"
    }
   ],
   "source": [
    "# Visit the Quotes to Scrape site\n",
    "url = 'https://books.toscrape.com/'\n",
    "browser.visit(url)\n",
    "\n",
    "#adding the delay feature to maybe help the code run?\n",
    "browser.is_element_present_by_css('article.product_pod', wait_time=1)"
   ]
  },
  {
   "cell_type": "code",
   "execution_count": 15,
   "id": "9f8d30ae",
   "metadata": {},
   "outputs": [],
   "source": [
    "# Parse the HTML\n",
    "html = browser.html\n",
    "title_soup = soup(html, 'html.parser')\n",
    "title = title_soup.select_one('article.product_pod')"
   ]
  },
  {
   "cell_type": "code",
   "execution_count": 27,
   "id": "eb300f6a",
   "metadata": {},
   "outputs": [
    {
     "data": {
      "text/plain": [
       "'A Light in the ...'"
      ]
     },
     "execution_count": 27,
     "metadata": {},
     "output_type": "execute_result"
    }
   ],
   "source": [
    "# Scrape the Title\n",
    "title_soup.find('h3').text"
   ]
  },
  {
   "cell_type": "code",
   "execution_count": 26,
   "id": "20755bd9",
   "metadata": {},
   "outputs": [
    {
     "data": {
      "text/plain": [
       "'A Light in the ...'"
      ]
     },
     "execution_count": 26,
     "metadata": {},
     "output_type": "execute_result"
    }
   ],
   "source": [
    "# Use the parent element to find the first `a` tag and save it as `news_title`\n",
    "title_title = title.find('h3').get_text()\n",
    "title_title"
   ]
  },
  {
   "cell_type": "code",
   "execution_count": 29,
   "id": "ebc9d4d3",
   "metadata": {},
   "outputs": [],
   "source": [
    "# Scrape all of the titles on the first page\n",
    "product_titles = title_soup.find('h3')\n",
    "# tag_box\n",
    "titles = product_titles.find_all('h3')\n",
    "\n",
    "for product_titles in titles:\n",
    "    ti_titles = product_titles.text\n",
    "    print(ti_titles)"
   ]
  },
  {
   "cell_type": "code",
   "execution_count": 16,
   "id": "d5e21302",
   "metadata": {},
   "outputs": [],
   "source": [
    "url = 'https://books.toscrape.com'\n",
    "browser.visit(url)"
   ]
  },
  {
   "cell_type": "code",
   "execution_count": 17,
   "id": "14691e85",
   "metadata": {},
   "outputs": [],
   "source": [
    "for x in range(1, 1):\n",
    "   html = browser.html\n",
    "   quote_soup = soup(html, 'html.parser')\n",
    "   quotes = quote_soup.find_all('span', class_='text')\n",
    "   for quote in quotes:\n",
    "      print('page:', x, '----------')\n",
    "      print(quote.text)\n",
    "   browser.links.find_by_partial_text('Next').click()"
   ]
  },
  {
   "cell_type": "code",
   "execution_count": null,
   "id": "23026a7f",
   "metadata": {},
   "outputs": [],
   "source": []
  }
 ],
 "metadata": {
  "kernelspec": {
   "display_name": "Python 3 (ipykernel)",
   "language": "python",
   "name": "python3"
  },
  "language_info": {
   "codemirror_mode": {
    "name": "ipython",
    "version": 3
   },
   "file_extension": ".py",
   "mimetype": "text/x-python",
   "name": "python",
   "nbconvert_exporter": "python",
   "pygments_lexer": "ipython3",
   "version": "3.7.6"
  }
 },
 "nbformat": 4,
 "nbformat_minor": 5
}
